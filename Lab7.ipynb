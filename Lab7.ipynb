{
 "cells": [
  {
   "cell_type": "markdown",
   "metadata": {},
   "source": [
    "### Dataset"
   ]
  },
  {
   "cell_type": "code",
   "execution_count": 3,
   "metadata": {},
   "outputs": [],
   "source": [
    "import pandas as pd\n",
    "\n",
    "data = pd.read_csv('abcnews-date-text.csv', error_bad_lines=False);\n",
    "data_text = data[['headline_text']]\n",
    "data_text['index'] = data_text.index\n",
    "documents = data_text"
   ]
  },
  {
   "cell_type": "markdown",
   "metadata": {},
   "source": [
    "### Pre-Proccessing"
   ]
  },
  {
   "cell_type": "code",
   "execution_count": 5,
   "metadata": {},
   "outputs": [],
   "source": [
    "import gensim\n",
    "from gensim.utils import simple_preprocess\n",
    "from gensim.parsing.preprocessing import STOPWORDS\n",
    "from nltk.stem import WordNetLemmatizer\n",
    "from nltk.stem.porter import *\n",
    "import numpy as np\n",
    "np.random.seed(2018)"
   ]
  },
  {
   "cell_type": "code",
   "execution_count": 1,
   "metadata": {},
   "outputs": [
    {
     "name": "stderr",
     "output_type": "stream",
     "text": [
      "[nltk_data] Downloading package wordnet to C:\\Users\\Akhil\n",
      "[nltk_data]     Thakur\\AppData\\Roaming\\nltk_data...\n",
      "[nltk_data]   Package wordnet is already up-to-date!\n"
     ]
    },
    {
     "data": {
      "text/plain": [
       "True"
      ]
     },
     "execution_count": 1,
     "metadata": {},
     "output_type": "execute_result"
    }
   ],
   "source": [
    "import nltk\n",
    "nltk.download('wordnet')"
   ]
  },
  {
   "cell_type": "code",
   "execution_count": 6,
   "metadata": {},
   "outputs": [],
   "source": [
    "# not stemming as it will not provide valid results\n",
    "#lemmatizing\n",
    "#removing stopwords and words with len<3\n",
    "def lemmatize_stemming(text):\n",
    "    return WordNetLemmatizer().lemmatize(text, pos='v')\n",
    "\n",
    "def preprocess(text):\n",
    "    result = []\n",
    "    for token in gensim.utils.simple_preprocess(text):\n",
    "        if token not in gensim.parsing.preprocessing.STOPWORDS and len(token) > 3:\n",
    "            result.append(lemmatize_stemming(token))\n",
    "    return result"
   ]
  },
  {
   "cell_type": "code",
   "execution_count": 7,
   "metadata": {},
   "outputs": [
    {
     "data": {
      "text/plain": [
       "0              [decide, community, broadcast, licence]\n",
       "1                         [witness, aware, defamation]\n",
       "2           [call, infrastructure, protection, summit]\n",
       "3                          [staff, aust, strike, rise]\n",
       "4             [strike, affect, australian, travellers]\n",
       "5               [ambitious, olsson, win, triple, jump]\n",
       "6               [antic, delight, record, break, barca]\n",
       "7    [aussie, qualifier, stosur, waste, memphis, ma...\n",
       "8             [aust, address, security, council, iraq]\n",
       "9                         [australia, lock, timetable]\n",
       "Name: headline_text, dtype: object"
      ]
     },
     "execution_count": 7,
     "metadata": {},
     "output_type": "execute_result"
    }
   ],
   "source": [
    "import gensim\n",
    "processed_docs = documents['headline_text'].map(preprocess)\n",
    "processed_docs[:10]"
   ]
  },
  {
   "cell_type": "code",
   "execution_count": 22,
   "metadata": {},
   "outputs": [],
   "source": [
    "dictionary = gensim.corpora.Dictionary(processed_docs)"
   ]
  },
  {
   "cell_type": "code",
   "execution_count": 49,
   "metadata": {},
   "outputs": [],
   "source": [
    "dictionary.filter_extremes(no_below=15, no_above=0.5, keep_n=100000)\n",
    "bow_corpus = [dictionary.doc2bow(doc) for doc in processed_docs]"
   ]
  },
  {
   "cell_type": "code",
   "execution_count": 35,
   "metadata": {},
   "outputs": [
    {
     "name": "stdout",
     "output_type": "stream",
     "text": [
      "[(0, 0.5918674193999763),\n",
      " (1, 0.3937180767686992),\n",
      " (2, 0.5009876624450964),\n",
      " (3, 0.49365007440105513)]\n"
     ]
    }
   ],
   "source": [
    "from gensim import corpora, models\n",
    "\n",
    "tfidf = models.TfidfModel(bow_corpus)\n",
    "corpus_tfidf = tfidf[bow_corpus]\n",
    "from pprint import pprint\n",
    "for doc in corpus_tfidf:\n",
    "    pprint(doc)\n",
    "    break"
   ]
  },
  {
   "cell_type": "code",
   "execution_count": 36,
   "metadata": {},
   "outputs": [],
   "source": [
    "# training lda model\n",
    "lda_model = gensim.models.LdaMulticore(bow_corpus, num_topics=10, id2word=dictionary, passes=2, workers=2)"
   ]
  },
  {
   "cell_type": "code",
   "execution_count": 40,
   "metadata": {},
   "outputs": [
    {
     "name": "stdout",
     "output_type": "stream",
     "text": [
      "Topic: 0 \n",
      "Words: 0.057*\"australia\" + 0.041*\"trump\" + 0.024*\"australian\" + 0.022*\"china\" + 0.019*\"world\" + 0.019*\"sydney\" + 0.017*\"open\" + 0.017*\"coronavirus\" + 0.015*\"border\" + 0.012*\"win\"\n",
      "Topic: 1 \n",
      "Words: 0.023*\"market\" + 0.019*\"year\" + 0.016*\"record\" + 0.012*\"care\" + 0.012*\"price\" + 0.012*\"years\" + 0.012*\"australian\" + 0.011*\"business\" + 0.011*\"country\" + 0.010*\"age\"\n",
      "Topic: 2 \n",
      "Words: 0.065*\"coronavirus\" + 0.032*\"covid\" + 0.029*\"government\" + 0.015*\"rise\" + 0.015*\"restrictions\" + 0.014*\"water\" + 0.012*\"royal\" + 0.012*\"scott\" + 0.011*\"tasmanian\" + 0.010*\"commission\"\n",
      "Topic: 3 \n",
      "Words: 0.027*\"kill\" + 0.022*\"die\" + 0.019*\"coast\" + 0.018*\"shoot\" + 0.017*\"miss\" + 0.016*\"crash\" + 0.015*\"attack\" + 0.015*\"gold\" + 0.015*\"dead\" + 0.014*\"island\"\n",
      "Topic: 4 \n",
      "Words: 0.040*\"police\" + 0.026*\"charge\" + 0.026*\"case\" + 0.025*\"court\" + 0.020*\"death\" + 0.020*\"murder\" + 0.017*\"face\" + 0.013*\"jail\" + 0.013*\"people\" + 0.012*\"arrest\"\n",
      "Topic: 5 \n",
      "Words: 0.027*\"test\" + 0.020*\"tasmania\" + 0.015*\"morrison\" + 0.014*\"drum\" + 0.012*\"premier\" + 0.011*\"save\" + 0.010*\"race\" + 0.009*\"show\" + 0.009*\"park\" + 0.009*\"alan\"\n",
      "Topic: 6 \n",
      "Words: 0.050*\"say\" + 0.024*\"victoria\" + 0.022*\"health\" + 0.019*\"change\" + 0.019*\"adelaide\" + 0.014*\"indigenous\" + 0.011*\"rural\" + 0.011*\"service\" + 0.010*\"national\" + 0.010*\"climate\"\n",
      "Topic: 7 \n",
      "Words: 0.030*\"queensland\" + 0.028*\"election\" + 0.022*\"live\" + 0.013*\"federal\" + 0.013*\"work\" + 0.012*\"school\" + 0.011*\"council\" + 0.010*\"farm\" + 0.009*\"labor\" + 0.009*\"fund\"\n",
      "Topic: 8 \n",
      "Words: 0.019*\"bushfire\" + 0.016*\"speak\" + 0.015*\"final\" + 0.013*\"beat\" + 0.013*\"street\" + 0.013*\"flood\" + 0.012*\"wall\" + 0.012*\"season\" + 0.011*\"john\" + 0.011*\"young\"\n",
      "Topic: 9 \n",
      "Words: 0.027*\"donald\" + 0.025*\"south\" + 0.024*\"news\" + 0.018*\"north\" + 0.016*\"perth\" + 0.015*\"time\" + 0.014*\"victorian\" + 0.013*\"return\" + 0.012*\"interview\" + 0.012*\"west\"\n"
     ]
    }
   ],
   "source": [
    "for idx, topic in lda_model.print_topics(-1):\n",
    "    print('Topic: {} \\nWords: {}'.format(idx, topic))"
   ]
  },
  {
   "cell_type": "code",
   "execution_count": 41,
   "metadata": {},
   "outputs": [],
   "source": [
    "lda_model_tfidf = gensim.models.LdaMulticore(corpus_tfidf, num_topics=10, id2word=dictionary, passes=2, workers=4)"
   ]
  },
  {
   "cell_type": "code",
   "execution_count": 42,
   "metadata": {},
   "outputs": [
    {
     "name": "stdout",
     "output_type": "stream",
     "text": [
      "Topic: 0 Word: 0.007*\"coronavirus\" + 0.007*\"border\" + 0.007*\"kill\" + 0.006*\"september\" + 0.005*\"footage\" + 0.005*\"china\" + 0.005*\"brexit\" + 0.005*\"protesters\" + 0.005*\"biden\" + 0.005*\"attack\"\n",
      "Topic: 1 Word: 0.013*\"crash\" + 0.011*\"queensland\" + 0.010*\"bushfire\" + 0.010*\"coast\" + 0.007*\"weather\" + 0.007*\"die\" + 0.007*\"michael\" + 0.007*\"police\" + 0.006*\"beach\" + 0.006*\"death\"\n",
      "Topic: 2 Word: 0.006*\"plan\" + 0.005*\"coal\" + 0.005*\"water\" + 0.005*\"action\" + 0.005*\"government\" + 0.005*\"legal\" + 0.005*\"council\" + 0.004*\"spring\" + 0.004*\"closure\" + 0.004*\"coronavirus\"\n",
      "Topic: 3 Word: 0.021*\"coronavirus\" + 0.016*\"covid\" + 0.010*\"health\" + 0.009*\"government\" + 0.007*\"royal\" + 0.007*\"commission\" + 0.007*\"federal\" + 0.006*\"care\" + 0.006*\"update\" + 0.006*\"sport\"\n",
      "Topic: 4 Word: 0.012*\"scott\" + 0.011*\"morrison\" + 0.010*\"restrictions\" + 0.010*\"coronavirus\" + 0.009*\"christmas\" + 0.008*\"turnbull\" + 0.007*\"island\" + 0.007*\"stories\" + 0.006*\"morning\" + 0.005*\"malcolm\"\n",
      "Topic: 5 Word: 0.025*\"news\" + 0.016*\"rural\" + 0.010*\"climate\" + 0.010*\"business\" + 0.009*\"thursday\" + 0.009*\"john\" + 0.009*\"victorian\" + 0.008*\"david\" + 0.008*\"national\" + 0.006*\"farm\"\n",
      "Topic: 6 Word: 0.013*\"market\" + 0.009*\"australian\" + 0.009*\"friday\" + 0.008*\"price\" + 0.008*\"share\" + 0.007*\"coronavirus\" + 0.007*\"rise\" + 0.006*\"grandstand\" + 0.006*\"finance\" + 0.005*\"festival\"\n",
      "Topic: 7 Word: 0.030*\"trump\" + 0.018*\"donald\" + 0.017*\"interview\" + 0.015*\"country\" + 0.010*\"speak\" + 0.010*\"hour\" + 0.007*\"australias\" + 0.007*\"cricket\" + 0.007*\"peter\" + 0.007*\"alan\"\n",
      "Topic: 8 Word: 0.014*\"drum\" + 0.011*\"australia\" + 0.010*\"world\" + 0.009*\"tuesday\" + 0.009*\"league\" + 0.008*\"wednesday\" + 0.008*\"street\" + 0.008*\"wall\" + 0.007*\"final\" + 0.006*\"brief\"\n",
      "Topic: 9 Word: 0.018*\"charge\" + 0.016*\"murder\" + 0.016*\"police\" + 0.012*\"court\" + 0.011*\"woman\" + 0.010*\"jail\" + 0.010*\"arrest\" + 0.009*\"sentence\" + 0.009*\"assault\" + 0.009*\"guilty\"\n"
     ]
    }
   ],
   "source": [
    "for idx, topic in lda_model_tfidf.print_topics(-1):\n",
    "    print('Topic: {} Word: {}'.format(idx, topic))"
   ]
  },
  {
   "cell_type": "markdown",
   "metadata": {},
   "source": [
    "### Testing both the models"
   ]
  },
  {
   "cell_type": "code",
   "execution_count": 51,
   "metadata": {},
   "outputs": [
    {
     "name": "stdout",
     "output_type": "stream",
     "text": [
      "\n",
      "Perplexity:  -9.118709657723862\n",
      "\n",
      "Coherence Score:  0.24535051024041796\n"
     ]
    }
   ],
   "source": [
    "# Bag Of Words\n",
    "# Compute Perplexity\n",
    "from gensim.models.coherencemodel import CoherenceModel\n",
    "print('\\nPerplexity: ', lda_model.log_perplexity(bow_corpus))  # a measure of how good the model is. lower the better.\n",
    "\n",
    "# Compute Coherence Score\n",
    "coherence_model_lda = CoherenceModel(model=lda_model, texts=processed_docs, dictionary=dictionary, coherence='c_v')\n",
    "coherence_lda = coherence_model_lda.get_coherence()\n",
    "print('\\nCoherence Score: ', coherence_lda)"
   ]
  },
  {
   "cell_type": "code",
   "execution_count": 54,
   "metadata": {},
   "outputs": [
    {
     "name": "stdout",
     "output_type": "stream",
     "text": [
      "\n",
      "Perplexity:  -8.997436855159867\n",
      "\n",
      "Coherence Score:  0.30983791499722557\n"
     ]
    }
   ],
   "source": [
    "# TFIDF\n",
    "# Compute Perplexity\n",
    "from gensim.models.coherencemodel import CoherenceModel\n",
    "print('\\nPerplexity: ', lda_model_tfidf.log_perplexity(bow_corpus))  # a measure of how good the model is. lower the better.\n",
    "\n",
    "# Compute Coherence Score\n",
    "coherence_model_lda = CoherenceModel(model=lda_model_tfidf, texts=processed_docs, dictionary=dictionary, coherence='c_v')\n",
    "coherence_lda = coherence_model_lda.get_coherence()\n",
    "print('\\nCoherence Score: ', coherence_lda)"
   ]
  },
  {
   "cell_type": "code",
   "execution_count": null,
   "metadata": {},
   "outputs": [],
   "source": [
    "#since tdidf has more coherence score therefore it is more effective than bow"
   ]
  },
  {
   "cell_type": "code",
   "execution_count": null,
   "metadata": {},
   "outputs": [],
   "source": []
  }
 ],
 "metadata": {
  "kernelspec": {
   "display_name": "Python 3",
   "language": "python",
   "name": "python3"
  },
  "language_info": {
   "codemirror_mode": {
    "name": "ipython",
    "version": 3
   },
   "file_extension": ".py",
   "mimetype": "text/x-python",
   "name": "python",
   "nbconvert_exporter": "python",
   "pygments_lexer": "ipython3",
   "version": "3.7.4"
  }
 },
 "nbformat": 4,
 "nbformat_minor": 4
}
